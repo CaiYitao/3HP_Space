{
 "cells": [
  {
   "cell_type": "code",
   "execution_count": 47,
   "metadata": {},
   "outputs": [],
   "source": [
    "from rdkit import Chem\n",
    "from rdkit.Chem import rdChemReactions as RXN\n",
    "# from rdchiral.main import rdchiralRun, rdchiralReaction, rdchiralReactants\n",
    "import pandas as pd \n",
    "import os\n",
    "import subprocess\n",
    "import sys\n",
    "sys.path.append(\"/home/talax/xtof/local/Mod/lib64\")\n",
    "from mod import smiles, ruleGMLString\n",
    "from mod import *\n",
    "# from utils import smarts_to_gml_with_mapping"
   ]
  },
  {
   "cell_type": "code",
   "execution_count": 3,
   "metadata": {},
   "outputs": [
    {
     "name": "stderr",
     "output_type": "stream",
     "text": [
      "[13:59:13] SMILES Parse Error: syntax error while parsing: [CoA][S][H]\n",
      "[13:59:13] SMILES Parse Error: Failed parsing SMILES '[CoA][S][H]' for input: '[CoA][S][H]'\n"
     ]
    },
    {
     "data": {
      "text/plain": [
       "True"
      ]
     },
     "execution_count": 3,
     "metadata": {},
     "output_type": "execute_result"
    }
   ],
   "source": [
    "def is_smiles(encoding):\n",
    "    try:\n",
    "        Chem.MolFromSmiles(encoding)\n",
    "        return True\n",
    "    except:\n",
    "        if all(c in '[].()+=-0123456789' for c in encoding):  # Allow basic SMILES symbols and brackets\n",
    "            return True\n",
    "        else:\n",
    "            return False\n",
    "\n",
    "encoding = \"[CoA][S][H]\"\n",
    "\n",
    "is_smiles(encoding)"
   ]
  },
  {
   "cell_type": "code",
   "execution_count": 48,
   "metadata": {},
   "outputs": [
    {
     "data": {
      "text/html": [
       "<div>\n",
       "<style scoped>\n",
       "    .dataframe tbody tr th:only-of-type {\n",
       "        vertical-align: middle;\n",
       "    }\n",
       "\n",
       "    .dataframe tbody tr th {\n",
       "        vertical-align: top;\n",
       "    }\n",
       "\n",
       "    .dataframe thead th {\n",
       "        text-align: right;\n",
       "    }\n",
       "</style>\n",
       "<table border=\"1\" class=\"dataframe\">\n",
       "  <thead>\n",
       "    <tr style=\"text-align: right;\">\n",
       "      <th></th>\n",
       "      <th>Reaction Smarts</th>\n",
       "      <th>Name</th>\n",
       "      <th>EC Number</th>\n",
       "    </tr>\n",
       "  </thead>\n",
       "  <tbody>\n",
       "    <tr>\n",
       "      <th>0</th>\n",
       "      <td>[O:1]=[P:2]([OH:3])([OH:4])[OH:5].[OH:6][CH2:7...</td>\n",
       "      <td>cellobiose + phosphate = alpha-D-glucose 1-ph...</td>\n",
       "      <td>2.4.1.20</td>\n",
       "    </tr>\n",
       "    <tr>\n",
       "      <th>1</th>\n",
       "      <td>[O:1]=[P:2]([OH:3])([OH:4])[OH:5].[OH:6][CH2:7...</td>\n",
       "      <td>ATP+glucose= ADP+Glucose 6-phosphate</td>\n",
       "      <td>2.7.1.63</td>\n",
       "    </tr>\n",
       "    <tr>\n",
       "      <th>2</th>\n",
       "      <td>[O:1]=[P:2]([OH:3])([OH:4])[O:5][C@H:6]1[O:7][...</td>\n",
       "      <td>alpha-D-glucose 1-phosphate = D-glucose 6-pho...</td>\n",
       "      <td>5.4.2.2</td>\n",
       "    </tr>\n",
       "    <tr>\n",
       "      <th>3</th>\n",
       "      <td>[O:1]=[CH:2][C@H:3]([OH:4])[C@@H:5]([OH:6])[C@...</td>\n",
       "      <td>D-Glucose 6-phosphate = L-myo-Inositol 1-phos...</td>\n",
       "      <td>5.5.1.4</td>\n",
       "    </tr>\n",
       "    <tr>\n",
       "      <th>4</th>\n",
       "      <td>[O:2]=[P:3]([OH:4])([OH:5])[O:6][C@@H:7]1[C@@H...</td>\n",
       "      <td>inositol 1-phosphate + H2O = myo-inositol + p...</td>\n",
       "      <td>3.1.3.25</td>\n",
       "    </tr>\n",
       "  </tbody>\n",
       "</table>\n",
       "</div>"
      ],
      "text/plain": [
       "                                     Reaction Smarts  \\\n",
       "0  [O:1]=[P:2]([OH:3])([OH:4])[OH:5].[OH:6][CH2:7...   \n",
       "1  [O:1]=[P:2]([OH:3])([OH:4])[OH:5].[OH:6][CH2:7...   \n",
       "2  [O:1]=[P:2]([OH:3])([OH:4])[O:5][C@H:6]1[O:7][...   \n",
       "3  [O:1]=[CH:2][C@H:3]([OH:4])[C@@H:5]([OH:6])[C@...   \n",
       "4  [O:2]=[P:3]([OH:4])([OH:5])[O:6][C@@H:7]1[C@@H...   \n",
       "\n",
       "                                                Name  EC Number  \n",
       "0   cellobiose + phosphate = alpha-D-glucose 1-ph...   2.4.1.20  \n",
       "1               ATP+glucose= ADP+Glucose 6-phosphate   2.7.1.63  \n",
       "2   alpha-D-glucose 1-phosphate = D-glucose 6-pho...    5.4.2.2  \n",
       "3   D-Glucose 6-phosphate = L-myo-Inositol 1-phos...    5.5.1.4  \n",
       "4   inositol 1-phosphate + H2O = myo-inositol + p...   3.1.3.25  "
      ]
     },
     "execution_count": 48,
     "metadata": {},
     "output_type": "execute_result"
    }
   ],
   "source": [
    "rxns = pd.read_csv(\"/home/mescalin/yitao/Documents/Code/CRN_IMA/ruleset_.csv\" ,)  \n",
    "rxns"
   ]
  },
  {
   "cell_type": "code",
   "execution_count": 36,
   "metadata": {},
   "outputs": [],
   "source": [
    "# rxns = pd.read_csv(\"/home/mescalin/yitao/Documents/Datasets/processed_reactions.csv\",)\n",
    "# rxns"
   ]
  },
  {
   "cell_type": "code",
   "execution_count": 4,
   "metadata": {},
   "outputs": [
    {
     "data": {
      "text/plain": [
       "array(['[NH2:1][C:2](=[O:3])[c:4]1[cH:5][cH:6][cH:7][n+:8]([C@@H:9]2[O:10][C@H:11]([CH2:12][O:13][P:14](=[O:15])([OH:16])[O:17][P:18](=[O:19])([OH:20])[O:21][CH2:22][C@H:23]3[O:24][C@@H:25]([n:26]4[cH:27][n:28][c:29]5[c:30]([NH2:31])[n:32][cH:33][n:34][c:35]45)[C@H:36]([O:37][P:38](=[O:39])([OH:40])[OH:41])[C@@H:42]3[OH:43])[C@@H:44]([OH:45])[C@H:46]2[OH:47])[cH:48]1.[OH:49][CH2:50][C@@H:51]([OH:52])[C@H:53]([OH:54])[C@@H:55]([OH:56])[CH2:57][OH:58]>>[H+].[NH2:1][C:2](=[O:3])[C:4]1=[CH:48][N:8]([C@@H:9]2[O:10][C@H:11]([CH2:12][O:13][P:14](=[O:15])([OH:16])[O:17][P:18](=[O:19])([OH:20])[O:21][CH2:22][C@H:23]3[O:24][C@@H:25]([n:26]4[cH:27][n:28][c:29]5[c:30]([NH2:31])[n:32][cH:33][n:34][c:35]45)[C@H:36]([O:37][P:38](=[O:39])([OH:40])[OH:41])[C@@H:42]3[OH:43])[C@@H:44]([OH:45])[C@H:46]2[OH:47])[CH:7]=[CH:6][CH2:5]1.[O:49]=[CH:50][C@H:51]([OH:52])[C@@H:53]([OH:54])[C@H:55]([OH:56])[CH2:57][OH:58]',\n",
       "       'D-xylose + NADPH + H+ = xylitol + NADP+', 1.0], dtype=object)"
      ]
     },
     "execution_count": 4,
     "metadata": {},
     "output_type": "execute_result"
    }
   ],
   "source": [
    "\n",
    "rxn_smt_array = rxns[[\"mapped\",\"orig_rxn_text\",\"quality\"]].to_numpy()\n",
    "# RXN.ReactionFromSmarts(rxn_smt_1,useSmiles=True)\n",
    "rxn_smt_1 = rxn_smt_array[0]\n",
    "\n",
    "rxn_smt_array[30791]"
   ]
  },
  {
   "cell_type": "code",
   "execution_count": 49,
   "metadata": {},
   "outputs": [
    {
     "ename": "ImportError",
     "evalue": "cannot import name 'smarts_to_gml_v2' from 'utils' (/home/mescalin/yitao/Documents/Code/CRN_IMA/utils.py)",
     "output_type": "error",
     "traceback": [
      "\u001b[0;31m---------------------------------------------------------------------------\u001b[0m",
      "\u001b[0;31mImportError\u001b[0m                               Traceback (most recent call last)",
      "\u001b[1;32m/home/mescalin/yitao/Documents/Code/CRN_IMA/rule.ipynb Cell 6\u001b[0m line \u001b[0;36m1\n\u001b[0;32m----> <a href='vscode-notebook-cell:/home/mescalin/yitao/Documents/Code/CRN_IMA/rule.ipynb#W4sZmlsZQ%3D%3D?line=0'>1</a>\u001b[0m \u001b[39mfrom\u001b[39;00m \u001b[39mutils\u001b[39;00m \u001b[39mimport\u001b[39;00m smarts_to_gml_v2\n\u001b[1;32m      <a href='vscode-notebook-cell:/home/mescalin/yitao/Documents/Code/CRN_IMA/rule.ipynb#W4sZmlsZQ%3D%3D?line=1'>2</a>\u001b[0m reactions \u001b[39m=\u001b[39m rxns[[\u001b[39m\"\u001b[39m\u001b[39mReaction Smarts\u001b[39m\u001b[39m\"\u001b[39m,\u001b[39m\"\u001b[39m\u001b[39mName\u001b[39m\u001b[39m\"\u001b[39m]]\u001b[39m.\u001b[39mto_numpy()\n\u001b[1;32m      <a href='vscode-notebook-cell:/home/mescalin/yitao/Documents/Code/CRN_IMA/rule.ipynb#W4sZmlsZQ%3D%3D?line=2'>3</a>\u001b[0m \u001b[39mfor\u001b[39;00m reaction \u001b[39min\u001b[39;00m reactions:\n",
      "\u001b[0;31mImportError\u001b[0m: cannot import name 'smarts_to_gml_v2' from 'utils' (/home/mescalin/yitao/Documents/Code/CRN_IMA/utils.py)"
     ]
    }
   ],
   "source": [
    "\n",
    "from utils import smarts_to_gml_v2\n",
    "reactions = rxns[[\"Reaction Smarts\",\"Name\"]].to_numpy()\n",
    "for reaction in reactions:\n",
    "    reaction_smarts = reaction[0]\n",
    "    reaction_name = reaction[1]\n",
    "    try:\n",
    "        gml_format_rule = smarts_to_gml_v2(reaction_smarts, reaction_name)\n",
    "  \n",
    "        print(gml_format_rule)\n",
    "    except:\n",
    "        print(f\"Failed to convert reaction {reaction_name} to GML\")\n",
    "        continue\n",
    "\n",
    "    \n",
    "\n",
    "\n",
    "\n",
    "\n"
   ]
  },
  {
   "cell_type": "code",
   "execution_count": 50,
   "metadata": {},
   "outputs": [
    {
     "name": "stdout",
     "output_type": "stream",
     "text": [
      "[['[O:1]=[P:2]([OH:3])([OH:4])[OH:5].[OH:6][CH2:7][C@H:8]1[O:9][C@H:10]([O:11][C@H:12]2[C@H:13]([OH:14])[C@@H:15]([OH:16])[C@H:17]([OH:18])[O:19][C@@H:20]2[CH2:21][OH:22])[C@H:23]([OH:24])[C@@H:25]([OH:26])[C@@H:27]1[OH:28]>>[O:1]=[P:2]([OH:3])([O:4][C@H:10]1[O:9][C@H:8]([CH2:7][OH:6])[C@@H:27]([OH:28])[C@H:25]([OH:26])[C@H:23]1[OH:24])[OH:5].[OH:11][C@H:12]1[C@H:13]([OH:14])[C@@H:15]([OH:16])[C@H:17]([OH:18])[O:19][C@@H:20]1[CH2:21][OH:22]'\n",
      "  ' cellobiose + phosphate = alpha-D-glucose 1-phosphate + D-glucose']\n",
      " ['[O:1]=[P:2]([OH:3])([OH:4])[OH:5].[OH:6][CH2:7][C@H:8]1[O:9][C@H:10](ADP:11)[C@H:23]([OH:24])[C@@H:25]([OH:26])[C@@H:27]1[OH:28]>>[O:1]=[P:2]([OH:3])([O:4][C@H:10]1[O:9][C@H:8]([CH2:7][OH:6])[C@@H:27]([OH:28])[C@H:25]([OH:26])[C@H:23]1[OH:24])[OH:5].[ADP:11]'\n",
      "  ' ATP+glucose= ADP+Glucose 6-phosphate']\n",
      " ['[O:1]=[P:2]([OH:3])([OH:4])[O:5][C@H:6]1[O:7][C@H:8]([CH2:9][OH:10])[C@@H:11]([OH:12])[C@H:13]([OH:14])[C@H:15]1[OH:16]>>[O:1]=[P:2]([OH:3])([OH:4])[O:5][CH2:6][C@@H:15]([C@H:13]([C@@H:11]([C@H:8]([OH:7])[CH:9]=[O:10])[OH:12])[OH:14])[OH:16]'\n",
      "  ' alpha-D-glucose 1-phosphate = D-glucose 6-phosphate']\n",
      " ['[O:1]=[CH:2][C@H:3]([OH:4])[C@@H:5]([OH:6])[C@H:7]([OH:8])[C@H:9]([OH:10])[CH2:11][O:12][P:13](=[O:14])([OH:15])[OH:16]>>[OH:1][C@@H:2]1[C@H:3]([OH:4])[C@@H:5]([OH:6])[C@H:7]([OH:8])[C@H:9]([OH:10])[C@H:11]1[O:12][P:13](=[O:14])([OH:15])[OH:16]'\n",
      "  ' D-Glucose 6-phosphate = L-myo-Inositol 1-phosphate']\n",
      " ['[O:2]=[P:3]([OH:4])([OH:5])[O:6][C@@H:7]1[C@@H:8]([OH:9])[C@H:10]([OH:11])[C@@H:12]([OH:13])[C@H:14]([OH:15])[C@@H:16]1[OH:17].[OH2:1]>>[O:2]=[P:3]([OH:4])([OH:5])[OH:6].[OH:1][C@H:7]1[C@@H:8]([OH:9])[C@H:10]([OH:11])[C@@H:12]([OH:13])[C@H:14]([OH:15])[C@@H:16]1[OH:17]'\n",
      "  ' inositol 1-phosphate + H2O = myo-inositol + phosphate']]\n",
      "Failed to convert reaction  cellobiose + phosphate = alpha-D-glucose 1-phosphate + D-glucose to GML\n",
      "Failed to convert reaction  ATP+glucose= ADP+Glucose 6-phosphate to GML\n",
      "Failed to convert reaction  alpha-D-glucose 1-phosphate = D-glucose 6-phosphate to GML\n",
      "Failed to convert reaction  D-Glucose 6-phosphate = L-myo-Inositol 1-phosphate to GML\n",
      "Failed to convert reaction  inositol 1-phosphate + H2O = myo-inositol + phosphate to GML\n"
     ]
    }
   ],
   "source": [
    "from utils import smarts_to_gml\n",
    "import os\n",
    "\n",
    "# Assuming `rxns` is a DataFrame with the necessary data\n",
    "reactions = rxns[[\"Reaction Smarts\", \"Name\"]].to_numpy()\n",
    "print(reactions)\n",
    "for i, reaction in enumerate(reactions):\n",
    "    reaction_smarts = reaction[0]\n",
    "    reaction_name = reaction[1]\n",
    "    \n",
    "    try:\n",
    "        # Convert SMARTS to GML\n",
    "        gml_format_rule = smarts_to_gml(reaction_smarts)\n",
    "        \n",
    "        # # Define the file path\n",
    "        # file_path = f\"/home/mescalin/yitao/Documents/Code/CRN_IMA/gml_rules/test_rule{i}.gml\"\n",
    "        \n",
    "        # # Write the GML rule to a file\n",
    "        # with open(file_path, \"w\") as f:\n",
    "        #     f.write(gml_format_rule)\n",
    "        \n",
    "    #     print(f\"Successfully wrote GML rule for {reaction_name} to {file_path}\")\n",
    "    # except ImportError as ie:\n",
    "    #     print(f\"Import error: {ie}\")\n",
    "    #     continue\n",
    "    # except FileNotFoundError as fe:\n",
    "    #     print(f\"File path error: {fe}\")\n",
    "    #     continue\n",
    "    # except Exception as e:\n",
    "    #     print(f\"Failed to convert reaction {reaction_name} to GML. Error: {e}\")\n",
    "    #     continue\n",
    "    except:\n",
    "        print(f\"Failed to convert reaction {reaction_name} to GML\")\n",
    "        continue\n"
   ]
  },
  {
   "cell_type": "code",
   "execution_count": 6,
   "metadata": {},
   "outputs": [
    {
     "data": {
      "image/png": "[encoded data removed]",
      "text/plain": [
       "<rdkit.Chem.rdChemReactions.ChemicalReaction at 0x7fb69f47abc0>"
      ]
     },
     "execution_count": 6,
     "metadata": {},
     "output_type": "execute_result"
    }
   ],
   "source": [
    "RXN.ReactionFromSmarts(reaction_smarts, useSmiles=True)"
   ]
  },
  {
   "cell_type": "code",
   "execution_count": 9,
   "metadata": {},
   "outputs": [
    {
     "ename": "InputError",
     "evalue": "Parsing failed at 1:4:\ngml_format_rule\n---^\nExpected value.\nEnd of x3 error.\nCould not load rule from <inline GML string>.",
     "output_type": "error",
     "traceback": [
      "\u001b[0;31m---------------------------------------------------------------------------\u001b[0m",
      "\u001b[0;31mInputError\u001b[0m                                Traceback (most recent call last)",
      "\u001b[1;32m/home/mescalin/yitao/Documents/Code/rule.ipynb Cell 6\u001b[0m line \u001b[0;36m1\n\u001b[0;32m----> <a href='vscode-notebook-cell:/home/mescalin/yitao/Documents/Code/rule.ipynb#W5sZmlsZQ%3D%3D?line=0'>1</a>\u001b[0m gml_rule \u001b[39m=\u001b[39m ruleGMLString(\u001b[39m\"\"\"\u001b[39;49m\u001b[39mgml_format_rule\u001b[39;49m\u001b[39m\"\"\"\u001b[39;49m)\n",
      "File \u001b[0;32m/home/talax/xtof/local/Mod/lib64/mod/__init__.py:1141\u001b[0m, in \u001b[0;36m_Rule_fromGMLString\u001b[0;34m(s, invert, add, printStereoWarnings)\u001b[0m\n\u001b[1;32m   1140\u001b[0m \u001b[39mdef\u001b[39;00m \u001b[39m_Rule_fromGMLString\u001b[39m(s: \u001b[39mstr\u001b[39m, invert: \u001b[39mbool\u001b[39m\u001b[39m=\u001b[39m\u001b[39mFalse\u001b[39;00m, add: \u001b[39mbool\u001b[39m\u001b[39m=\u001b[39m\u001b[39mTrue\u001b[39;00m, printStereoWarnings: \u001b[39mbool\u001b[39m\u001b[39m=\u001b[39m\u001b[39mTrue\u001b[39;00m) \u001b[39m-\u001b[39m\u001b[39m>\u001b[39m Rule:\n\u001b[0;32m-> 1141\u001b[0m \t\u001b[39mreturn\u001b[39;00m _ruleLoad(_Rule_fromGMLString_orig(s, invert, printStereoWarnings), add)\n",
      "\u001b[0;31mInputError\u001b[0m: Parsing failed at 1:4:\ngml_format_rule\n---^\nExpected value.\nEnd of x3 error.\nCould not load rule from <inline GML string>."
     ]
    }
   ],
   "source": [
    "gml_rule = ruleGMLString(\"\"\"gml_format_rule\"\"\")"
   ]
  },
  {
   "cell_type": "code",
   "execution_count": 12,
   "metadata": {},
   "outputs": [
    {
     "ename": "InputError",
     "evalue": "Could not open rule GML file 'BVMO.gml':\nfailed opening file: No such file or directory: iostream error",
     "output_type": "error",
     "traceback": [
      "\u001b[0;31m---------------------------------------------------------------------------\u001b[0m",
      "\u001b[0;31mInputError\u001b[0m                                Traceback (most recent call last)",
      "\u001b[1;32m/home/mescalin/yitao/Documents/Code/rule.ipynb Cell 7\u001b[0m line \u001b[0;36m1\n\u001b[1;32m     <a href='vscode-notebook-cell:/home/mescalin/yitao/Documents/Code/rule.ipynb#W6sZmlsZQ%3D%3D?line=14'>15</a>\u001b[0m eductMols\u001b[39m=\u001b[39m[chexanol, hexdiol, nadplus, oxygen, hplus]\n\u001b[1;32m     <a href='vscode-notebook-cell:/home/mescalin/yitao/Documents/Code/rule.ipynb#W6sZmlsZQ%3D%3D?line=16'>17</a>\u001b[0m \u001b[39m## rewrite rule(s)\u001b[39;00m\n\u001b[0;32m---> <a href='vscode-notebook-cell:/home/mescalin/yitao/Documents/Code/rule.ipynb#W6sZmlsZQ%3D%3D?line=17'>18</a>\u001b[0m bvmo \u001b[39m=\u001b[39m ruleGML(\u001b[39m\"\u001b[39;49m\u001b[39mBVMO.gml\u001b[39;49m\u001b[39m\"\u001b[39;49m)\n\u001b[1;32m     <a href='vscode-notebook-cell:/home/mescalin/yitao/Documents/Code/rule.ipynb#W6sZmlsZQ%3D%3D?line=18'>19</a>\u001b[0m adh \u001b[39m=\u001b[39m ruleGML(\u001b[39m\"\u001b[39m\u001b[39mADH.gml\u001b[39m\u001b[39m\"\u001b[39m)\n\u001b[1;32m     <a href='vscode-notebook-cell:/home/mescalin/yitao/Documents/Code/rule.ipynb#W6sZmlsZQ%3D%3D?line=19'>20</a>\u001b[0m interac \u001b[39m=\u001b[39m ruleGML(\u001b[39m\"\u001b[39m\u001b[39mintracetal.gml\u001b[39m\u001b[39m\"\u001b[39m)\n",
      "File \u001b[0;32m/home/talax/xtof/local/Mod/lib64/mod/__init__.py:1143\u001b[0m, in \u001b[0;36m_Rule_fromGMLFile\u001b[0;34m(f, invert, add, printStereoWarnings)\u001b[0m\n\u001b[1;32m   1142\u001b[0m \u001b[39mdef\u001b[39;00m \u001b[39m_Rule_fromGMLFile\u001b[39m(f: \u001b[39mstr\u001b[39m, invert: \u001b[39mbool\u001b[39m\u001b[39m=\u001b[39m\u001b[39mFalse\u001b[39;00m, add: \u001b[39mbool\u001b[39m\u001b[39m=\u001b[39m\u001b[39mTrue\u001b[39;00m, printStereoWarnings: \u001b[39mbool\u001b[39m\u001b[39m=\u001b[39m\u001b[39mTrue\u001b[39;00m) \u001b[39m-\u001b[39m\u001b[39m>\u001b[39m Rule:\n\u001b[0;32m-> 1143\u001b[0m \t\u001b[39mreturn\u001b[39;00m _ruleLoad(_Rule_fromGMLFile_orig(prefixFilename(f), invert, printStereoWarnings), add)\n",
      "\u001b[0;31mInputError\u001b[0m: Could not open rule GML file 'BVMO.gml':\nfailed opening file: No such file or directory: iostream error"
     ]
    }
   ],
   "source": [
    "chexanon = smiles(\"C1(=O)CCCCC1\", \"cHEXON\")\n",
    "chexanol = smiles(\"C1(O)CCCCC1\", \"cHEXOL\")\n",
    "hexonol = smiles(\"O=CCCCCCO\", \"HEXONOL\")\n",
    "hexonon = smiles(\"O=CCCCCC=O\", \"HEXONON\")\n",
    "hexdiol = smiles(\"OCCCCCCO\", \"HEXDIOL\")\n",
    "ecaprolacton = smiles(\"O1C(=O)CCCCC1\", \"eCALON\")\n",
    "nadph = graphDFS(\"[NADP][H]\")\n",
    "nadplus = graphDFS(\"[NADP+]\")\n",
    "oxygen = smiles(\"O=O\", \"O2\")\n",
    "water = smiles(\"O\", \"H2O\")\n",
    "hplus = smiles(\"[H+]\", \"hplus\")\n",
    "\n",
    "knownMols=[chexanon, chexanol, ecaprolacton, nadph, nadplus,\n",
    "hexonol, hexonon, oxygen, water, hplus]\n",
    "eductMols=[chexanol, hexdiol, nadplus, oxygen, hplus]\n",
    "\n",
    "## rewrite rule(s)\n",
    "bvmo = ruleGML(\"BVMO.gml\")\n",
    "adh = ruleGML(\"ADH.gml\")\n",
    "interac = ruleGML(\"intracetal.gml\")\n",
    "\n",
    " ## print DPO diagramms of rules\n",
    "# depricated postSection(\"DPO Diagramms of Rule(s)\")\n",
    "post.summarySection(\"DPO Diagramms of Rule(s)\")\n",
    "for r in inputRules:\n",
    "    p = GraphPrinter()\n",
    "    p.setReactionDefault()\n",
    "    p.withIndex = True\n",
    "    r.print(p)"
   ]
  },
  {
   "cell_type": "code",
   "execution_count": null,
   "metadata": {},
   "outputs": [],
   "source": [
    "## define strategy for derivation graph generation\n",
    "50 ## iterate grammar for 4 steps\n",
    "51 strat = (addSubset(eductMols) >> repeat[4](inputRules))\n",
    "52\n",
    "53 ## switch to term rewrite this is necessary since wildcard atom ’*’\n",
    "54 ## is used in rule interacetal.gml\n",
    "55 ls = LabelSettings(LabelType.Term, LabelRelation.Unification)\n",
    "56\n",
    "57 ## generate derivation graph using the defined strategy\n",
    "58 dg = DG(graphDatabase=knownMols, labelSettings=ls)\n",
    "59 dg.build().execute(strat)\n",
    "60\n",
    "61 ## print derivation graph\n",
    "62 dg.print()\n",
    "63\n",
    "64 ####################################\n",
    "65 ## find pathway as integer hyperflow\n",
    "66 ####################################\n",
    "67\n",
    "68 ## specify target molecule"
   ]
  },
  {
   "cell_type": "code",
   "execution_count": 3,
   "metadata": {},
   "outputs": [
    {
     "data": {
      "text/plain": [
       "tensor([[False, False],\n",
       "        [ True,  True]])"
      ]
     },
     "execution_count": 3,
     "metadata": {},
     "output_type": "execute_result"
    }
   ],
   "source": [
    "import torch \n",
    "\n",
    "\n",
    "torch.gt(torch.tensor([[1, 2], [3, 4]]), torch.tensor([2]))"
   ]
  },
  {
   "cell_type": "code",
   "execution_count": null,
   "metadata": {},
   "outputs": [],
   "source": []
  }
 ],
 "metadata": {
  "kernelspec": {
   "display_name": "Python 3",
   "language": "python",
   "name": "python3"
  },
  "language_info": {
   "codemirror_mode": {
    "name": "ipython",
    "version": 3
   },
   "file_extension": ".py",
   "mimetype": "text/x-python",
   "name": "python",
   "nbconvert_exporter": "python",
   "pygments_lexer": "ipython3",
   "version": "3.11.8"
  },
  "orig_nbformat": 4
 },
 "nbformat": 4,
 "nbformat_minor": 2
}
