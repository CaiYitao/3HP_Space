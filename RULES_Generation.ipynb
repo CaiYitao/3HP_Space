{
 "cells": [
  {
   "cell_type": "code",
   "execution_count": 1,
   "metadata": {},
   "outputs": [
    {
     "name": "stderr",
     "output_type": "stream",
     "text": [
      "/tmp/ipykernel_1346515/1711071717.py:14: DeprecationWarning: \n",
      "Pyarrow will become a required dependency of pandas in the next major release of pandas (pandas 3.0),\n",
      "(to allow more performant data types, such as the Arrow string type, and better interoperability with other libraries)\n",
      "but was not found to be installed on your system.\n",
      "If this would cause problems for you,\n",
      "please provide us feedback at https://github.com/pandas-dev/pandas/issues/54466\n",
      "        \n",
      "  import pandas as pd\n"
     ]
    }
   ],
   "source": [
    "import numpy as np  \n",
    "import torch\n",
    "# import sys\n",
    "# import subprocess\n",
    "# sys.path.append(\"/home/talax/xtof/local/Mod/lib64\")\n",
    "# from mod import *\n",
    "# import mod\n",
    "# from utils import smarts_to_gml_with_mapping\n",
    "import random\n",
    "# from rdkit.Chem import AllChem,Draw\n",
    "\n",
    "from rdkit import Chem\n",
    "# from rdchiral.main import rdchiralRun, rdchiralReaction, rdchiralReactants\n",
    "import pandas as pd \n",
    "# import torch\n",
    "# from utils import smarts_to_gml"
   ]
  },
  {
   "cell_type": "code",
   "execution_count": 3,
   "metadata": {},
   "outputs": [
    {
     "data": {
      "text/plain": [
       "'cpu'"
      ]
     },
     "execution_count": 3,
     "metadata": {},
     "output_type": "execute_result"
    }
   ],
   "source": [
    "device = (\"cuda\" if torch.cuda.is_available() else \"cpu\")\n",
    "device"
   ]
  },
  {
   "cell_type": "code",
   "execution_count": 42,
   "metadata": {},
   "outputs": [
    {
     "name": "stdout",
     "output_type": "stream",
     "text": [
      "C\n",
      "C\n",
      "O\n",
      "C\n",
      "O\n",
      "O\n",
      "H\n",
      "H\n",
      "NAD+\n",
      "0\n",
      "1\n",
      "-\n",
      "1\n",
      "2\n",
      "-\n",
      "1\n",
      "3\n",
      "-\n",
      "1\n",
      "7\n",
      "-\n",
      "2\n",
      "6\n",
      "-\n",
      "3\n",
      "4\n",
      "=\n",
      "3\n",
      "5\n",
      "-\n",
      "7\n",
      "8\n"
     ]
    },
    {
     "ename": "LogicError",
     "evalue": "Can not get string label on a null edge.",
     "output_type": "error",
     "traceback": [
      "\u001b[0;31m---------------------------------------------------------------------------\u001b[0m",
      "\u001b[0;31mLogicError\u001b[0m                                Traceback (most recent call last)",
      "\u001b[1;32m/home/mescalin/yitao/Documents/Code/CRN_IMA/RULES_Generation.ipynb Cell 2\u001b[0m line \u001b[0;36m1\n\u001b[1;32m     <a href='vscode-notebook-cell:/home/mescalin/yitao/Documents/Code/CRN_IMA/RULES_Generation.ipynb#X21sZmlsZQ%3D%3D?line=13'>14</a>\u001b[0m \u001b[39mprint\u001b[39m(edge\u001b[39m.\u001b[39msource\u001b[39m.\u001b[39mid)\n\u001b[1;32m     <a href='vscode-notebook-cell:/home/mescalin/yitao/Documents/Code/CRN_IMA/RULES_Generation.ipynb#X21sZmlsZQ%3D%3D?line=14'>15</a>\u001b[0m \u001b[39mprint\u001b[39m(edge\u001b[39m.\u001b[39mtarget\u001b[39m.\u001b[39mid)\n\u001b[0;32m---> <a href='vscode-notebook-cell:/home/mescalin/yitao/Documents/Code/CRN_IMA/RULES_Generation.ipynb#X21sZmlsZQ%3D%3D?line=15'>16</a>\u001b[0m \u001b[39mprint\u001b[39m(edge\u001b[39m.\u001b[39;49mleft\u001b[39m.\u001b[39;49mstringLabel)\n\u001b[1;32m     <a href='vscode-notebook-cell:/home/mescalin/yitao/Documents/Code/CRN_IMA/RULES_Generation.ipynb#X21sZmlsZQ%3D%3D?line=16'>17</a>\u001b[0m \u001b[39m# print(edge.right.stringLabel)\u001b[39;00m\n",
      "\u001b[0;31mLogicError\u001b[0m: Can not get string label on a null edge."
     ]
    }
   ],
   "source": [
    "from utils import collect_rules\n",
    "rules_path = \"/home/mescalin/yitao/Documents/Code/3HPspace\"\n",
    "rules = collect_rules(rules_path)\n",
    "rule = rules[0]\n",
    "\n",
    "for v in rule.vertices:\n",
    "    # print(v.id)\n",
    "    print(v.left.stringLabel)\n",
    "\n",
    "    # print(v.right)\n",
    "    # print(v.id)\n",
    "\n",
    "for edge in rule.edges:\n",
    "    print(edge.source.id)\n",
    "    print(edge.target.id)\n",
    "    print(edge.left.stringLabel)\n",
    "    # print(edge.right.stringLabel)"
   ]
  },
  {
   "cell_type": "code",
   "execution_count": 2,
   "metadata": {},
   "outputs": [
    {
     "data": {
      "text/html": [
       "<div>\n",
       "<style scoped>\n",
       "    .dataframe tbody tr th:only-of-type {\n",
       "        vertical-align: middle;\n",
       "    }\n",
       "\n",
       "    .dataframe tbody tr th {\n",
       "        vertical-align: top;\n",
       "    }\n",
       "\n",
       "    .dataframe thead th {\n",
       "        text-align: right;\n",
       "    }\n",
       "</style>\n",
       "<table border=\"1\" class=\"dataframe\">\n",
       "  <thead>\n",
       "    <tr style=\"text-align: right;\">\n",
       "      <th></th>\n",
       "      <th>mapped</th>\n",
       "      <th>orig_rxn_text</th>\n",
       "      <th>EC</th>\n",
       "    </tr>\n",
       "  </thead>\n",
       "  <tbody>\n",
       "    <tr>\n",
       "      <th>0</th>\n",
       "      <td>[CH3:1][C:2]([H:8])([O:3][H:7])[C:4](=[O:5])[O...</td>\n",
       "      <td>(S)-lactate + NAD+ = pyruvate + NADH + H+</td>\n",
       "      <td>1.1.1.27</td>\n",
       "    </tr>\n",
       "    <tr>\n",
       "      <th>1</th>\n",
       "      <td>[CH3:1][C:2]([H:6])=[O:3].[*+:5].[S:4]([H:8])[...</td>\n",
       "      <td>acetaldehyde + CoA + NAD+ = acetyl-CoA + NADH ...</td>\n",
       "      <td>1.2.1.10</td>\n",
       "    </tr>\n",
       "    <tr>\n",
       "      <th>2</th>\n",
       "      <td>[H:20][N:1]([H:21])[C:2]([CH2:3][C:4](=[O:5])[...</td>\n",
       "      <td>L-Aspartate + 2-Oxoglutarate &lt;=&gt; Oxaloacetate ...</td>\n",
       "      <td>2.6.1.1</td>\n",
       "    </tr>\n",
       "    <tr>\n",
       "      <th>3</th>\n",
       "      <td>[CH3:1](=[O:2])[S:3][*:5].[H:7][O:4][H:6]&gt;&gt;[CH...</td>\n",
       "      <td>Acyl-CoA + H2O &lt;=&gt; CoA + Carboxylate</td>\n",
       "      <td>3.1.2.20</td>\n",
       "    </tr>\n",
       "    <tr>\n",
       "      <th>4</th>\n",
       "      <td>[CH3:1][S+:2]([CH2:3][CH2:4][CH:5]([H:11])[NH2...</td>\n",
       "      <td>S-adenosyl-L-methionine = (5-deoxy-5-adenosyl)...</td>\n",
       "      <td>4.1.1.50</td>\n",
       "    </tr>\n",
       "    <tr>\n",
       "      <th>5</th>\n",
       "      <td>[O:1]=[C:2]([OH:3])[CH:4]([H:11])[C@H:5]([O:6]...</td>\n",
       "      <td>fumarate + H2O = L-malate</td>\n",
       "      <td>4.2.1.2</td>\n",
       "    </tr>\n",
       "    <tr>\n",
       "      <th>6</th>\n",
       "      <td>[H:8][CH2:1][CH:2]([O:3][H:9])[C:4](=[O:5])[S:...</td>\n",
       "      <td>Lactoyl-CoA &lt;=&gt; Propenoyl-CoA + H2O</td>\n",
       "      <td>4.2.1.54</td>\n",
       "    </tr>\n",
       "    <tr>\n",
       "      <th>7</th>\n",
       "      <td>[H:13][NH2:1][C@@H:2]([CH:3]([H:10])[C:4](=[O:...</td>\n",
       "      <td>L-Aspartate &lt;=&gt; Fumarate + Ammonia</td>\n",
       "      <td>4.3.1.1</td>\n",
       "    </tr>\n",
       "    <tr>\n",
       "      <th>8</th>\n",
       "      <td>[NH2:1][CH2:2][CH2:3][CH2:4][CH:5]([H:11])[C@H...</td>\n",
       "      <td>L-lysine = (3S)-3,6-diaminohexanoate</td>\n",
       "      <td>5.4.3.2</td>\n",
       "    </tr>\n",
       "    <tr>\n",
       "      <th>9</th>\n",
       "      <td>[CH3:1][C:2](=[O:3])[OH:4].[Xe:18][S:5][H:19]....</td>\n",
       "      <td>ATP + Acetate + CoA &lt;=&gt; AMP + Diphosphate + Ac...</td>\n",
       "      <td>6.2.1.1</td>\n",
       "    </tr>\n",
       "    <tr>\n",
       "      <th>10</th>\n",
       "      <td>[H:23][CH2:1][C:2](=[O:3])[S:4][Xe:24].[CH3:5]...</td>\n",
       "      <td>ATP + acetyl-CoA + HCO3- = ADP + malonyl-CoA +...</td>\n",
       "      <td>6.4.1.2</td>\n",
       "    </tr>\n",
       "  </tbody>\n",
       "</table>\n",
       "</div>"
      ],
      "text/plain": [
       "                                               mapped  \\\n",
       "0   [CH3:1][C:2]([H:8])([O:3][H:7])[C:4](=[O:5])[O...   \n",
       "1   [CH3:1][C:2]([H:6])=[O:3].[*+:5].[S:4]([H:8])[...   \n",
       "2   [H:20][N:1]([H:21])[C:2]([CH2:3][C:4](=[O:5])[...   \n",
       "3   [CH3:1](=[O:2])[S:3][*:5].[H:7][O:4][H:6]>>[CH...   \n",
       "4   [CH3:1][S+:2]([CH2:3][CH2:4][CH:5]([H:11])[NH2...   \n",
       "5   [O:1]=[C:2]([OH:3])[CH:4]([H:11])[C@H:5]([O:6]...   \n",
       "6   [H:8][CH2:1][CH:2]([O:3][H:9])[C:4](=[O:5])[S:...   \n",
       "7   [H:13][NH2:1][C@@H:2]([CH:3]([H:10])[C:4](=[O:...   \n",
       "8   [NH2:1][CH2:2][CH2:3][CH2:4][CH:5]([H:11])[C@H...   \n",
       "9   [CH3:1][C:2](=[O:3])[OH:4].[Xe:18][S:5][H:19]....   \n",
       "10  [H:23][CH2:1][C:2](=[O:3])[S:4][Xe:24].[CH3:5]...   \n",
       "\n",
       "                                        orig_rxn_text        EC  \n",
       "0           (S)-lactate + NAD+ = pyruvate + NADH + H+  1.1.1.27  \n",
       "1   acetaldehyde + CoA + NAD+ = acetyl-CoA + NADH ...  1.2.1.10  \n",
       "2   L-Aspartate + 2-Oxoglutarate <=> Oxaloacetate ...   2.6.1.1  \n",
       "3                Acyl-CoA + H2O <=> CoA + Carboxylate  3.1.2.20  \n",
       "4   S-adenosyl-L-methionine = (5-deoxy-5-adenosyl)...  4.1.1.50  \n",
       "5                           fumarate + H2O = L-malate   4.2.1.2  \n",
       "6                 Lactoyl-CoA <=> Propenoyl-CoA + H2O  4.2.1.54  \n",
       "7                  L-Aspartate <=> Fumarate + Ammonia   4.3.1.1  \n",
       "8                L-lysine = (3S)-3,6-diaminohexanoate   5.4.3.2  \n",
       "9   ATP + Acetate + CoA <=> AMP + Diphosphate + Ac...   6.2.1.1  \n",
       "10  ATP + acetyl-CoA + HCO3- = ADP + malonyl-CoA +...   6.4.1.2  "
      ]
     },
     "execution_count": 2,
     "metadata": {},
     "output_type": "execute_result"
    }
   ],
   "source": [
    "\"\"\" \n",
    "\n",
    "    Xe : indicate CoA group\n",
    "    U : indicate NAD group\n",
    "    Rn : indicate R group\n",
    "\"\"\"\n",
    "\n",
    "RULES  = [[\"[CH3:1][C:2]([H:8])([O:3][H:7])[C:4](=[O:5])[OH:6].[*+:9]>>[CH3:1][C:2](=[O:3])[C:4](=[O:5])[OH:6].[H+:7].[H:8][*:9]\",\"(S)-lactate + NAD+ = pyruvate + NADH + H+\",\"1.1.1.27\"],\n",
    "      [\"[CH3:1][C:2]([H:6])=[O:3].[*+:5].[S:4]([H:8])[*:7]>>[CH3:1][C:2](=[O:3])[S:4][*:7].[H+:8].[*:5][H:6]\",\"acetaldehyde + CoA + NAD+ = acetyl-CoA + NADH + H+\",\"1.2.1.10\"],\n",
    "      [\"[H:20][N:1]([H:21])[C:2]([CH2:3][C:4](=[O:5])[OH:6])([H:22])([C:7](=[O:8])[OH:9]).[O:10]=[C:11]([OH:12])[CH2:13][CH2:14][C:15](=[O:16])[C:17](=[O:18])[OH:19]>>[C:2]([CH2:3][C:4](=[O:5])[OH:6])([C:7](=[O:8])[OH:9])=[O:16].[H:20][N:1]([H:21])[C:15]([CH2:14][CH2:13][C:11](=[O:10])[OH:12])([H:22])[C:17](=[O:18])[OH:19]\",\"L-Aspartate + 2-Oxoglutarate <=> Oxaloacetate + L-Glutamate\",\"2.6.1.1\"],\n",
    "      [\"[CH3:1](=[O:2])[S:3][*:5].[H:7][O:4][H:6]>>[CH3:1](=[O:2])[O:4][H:7].[H:6][S:3][*:5]\",\"Acyl-CoA + H2O <=> CoA + Carboxylate\",\"3.1.2.20\"],\n",
    "      [\"[CH3:1][S+:2]([CH2:3][CH2:4][CH:5]([H:11])[NH2:6])[*:7].[O:8]=[C:9]=[O:10]>>[CH3:1][S+:2]([CH2:3][CH2:4][C@H:5]([NH2:6])[C:9](=[O:10])[O:8][H:11])[*:7]\",\"S-adenosyl-L-methionine = (5-deoxy-5-adenosyl)(3-aminopropyl)methylsulfonium salt + CO2\",\"4.1.1.50\"],\n",
    "      [\"[O:1]=[C:2]([OH:3])[CH:4]([H:11])[C@H:5]([O:6][H:10])[C:7](=[O:8])[OH:9]>>[O:1]=[C:2]([OH:3])/[CH:4]=[CH:5]/[C:7](=[O:8])[OH:9].[H:10][O:6][H:11]\",\"fumarate + H2O = L-malate\",\"4.2.1.2\"],\n",
    "      [\"[H:8][CH2:1][CH:2]([O:3][H:9])[C:4](=[O:5])[S:6][*:7]>>[CH2:1]=[CH:2][C:4](=[O:5])[S:6][*:7].[H:8][O:3][H:9]\",\"Lactoyl-CoA <=> Propenoyl-CoA + H2O\",\"4.2.1.54\"],\n",
    "      [\"[H:13][NH2:1][C@@H:2]([CH:3]([H:10])[C:4](=[O:5])[OH:6])[C:7](=[O:8])[OH:9]>>[CH:2](=[CH:3]/[C:4](=[O:5])[OH:6])\\\\[C:7](=[O:8])[OH:9].[NH2:1][H:10]\",\"L-Aspartate <=> Fumarate + Ammonia\",\"4.3.1.1\"],\n",
    "      [\"[NH2:1][CH2:2][CH2:3][CH2:4][CH:5]([H:11])[C@H:6]([NH2:7])[C:8](=[O:9])[OH:10]>>[NH2:1][CH2:2][CH2:3][CH2:4][C@H:5]([NH2:7])[CH:6]([H:11])[C:8](=[O:9])[OH:10]\",\"L-lysine = (3S)-3,6-diaminohexanoate\",\"5.4.3.2\"],\n",
    "      [\"[CH3:1][C:2](=[O:3])[OH:4].[Xe:18][S:5][H:19].[CH3:6][O:7][P:8](=[O:9])([OH:10])[O:11][P:12](=[O:13])([OH:14])[O:15][P:16](=[O:17])([OH:20])[OH:21]>>[CH3:1][C:2](=[O:3])[S:5][Xe:18].[OH:4][P:8]([O:7][CH3:6])(=[O:9])[OH:10].[O:11]([H:19])[P:12](=[O:13])([OH:14])[O:15][P:16](=[O:17])([OH:20])[OH:21]\",\"ATP + Acetate + CoA <=> AMP + Diphosphate + Acetyl-CoA\",\"6.2.1.1\"],\n",
    "      [\"[H:23][CH2:1][C:2](=[O:3])[S:4][Xe:24].[CH3:5][O:6][P:7](=[O:8])([OH:9])[O:10][P:11](=[O:12])([OH:13])[O:14][P:15](=[O:16])([OH:17])[OH:18].[O:19]=[C:20]([OH:21])[OH:22]>>[CH2:1]([C:2](=[O:3])[S:4][Xe:24])[C:20](=[O:19])[OH:22].[CH3:5][O:6][P:7](=[O:8])([OH:9])[O:10][P:11](=[O:12])([OH:13])[OH:21].[H:23][O:14][P:15](=[O:16])([OH:17])[OH:18]\",\"ATP + acetyl-CoA + HCO3- = ADP + malonyl-CoA + phosphate \",\"6.4.1.2\"]\n",
    "      [\"[NH2:1][C:2](=[O:3])[c:4]1[cH:5][cH:6][cH:7][n+:8]([C@@H:9]2[O:10][C@H:11]([CH2:12][O:13][P:14](=[O:15])([OH:16])[O:17][P:18](=[O:19])([OH:20])[O:21][CH2:22][C@H:23]3[O:24][C@@H:25]([n:26]4[cH:27][n:28][c:29]5[c:30]([NH2:31])[n:32][cH:33][n:34][c:35]45)[C@H:36]([OH:37])[C@@H:38]3[OH:39])[C@@H:40]([OH:41])[C@H:42]2[OH:43])[cH:44]1.[NH2:45][C@@H:46]([CH2:47][CH2:48][C:49](=[O:50])[OH:51])[C:52](=[O:53])[OH:54].[OH2:55]>>[C:46]([CH2:47][CH2:48][C:49](=[O:50])[OH:51])([C:52](=[O:53])[OH:54])=[O:55].[H+].[NH2:1][C:2](=[O:3])[C:4]1=[CH:44][N:8]([C@@H:9]2[O:10][C@H:11]([CH2:12][O:13][P:14](=[O:15])([OH:16])[O:17][P:18](=[O:19])([OH:20])[O:21][CH2:22][C@H:23]3[O:24][C@@H:25]([n:26]4[cH:27][n:28][c:29]5[c:30]([NH2:31])[n:32][cH:33][n:34][c:35]45)[C@H:36]([OH:37])[C@@H:38]3[OH:39])[C@@H:40]([OH:41])[C@H:42]2[OH:43])[CH:7]=[CH:6][CH2:5]1.[NH3:45]\"]]\n",
    "\n",
    "# RULES =[[\"[CH3:1][C:2](=[O:3])[S:4][Xe:1000].[NH2:5][c:6]1[cH:7][cH:8][c:9]([C:10](=[O:11])[OH:12])[cH:13][cH:14]1>>[S:4]([H:1001])[Xe:1000].[CH3:1][C:2](=[O:3])[NH:5][c:6]1[cH:7][cH:8][c:9]([C:10](=[O:11])[OH:12])[cH:13][cH:14]1\",\"acetyl-CoA + 4-aminobenzoic acid = CoA + N-acetyl-4-aminobenzoate\",\"2.3.1.50\"],\n",
    "#       [\"[CH3:1][C:2](=[O:3])[S:4][Xe:1000].[NH2:5][c:6]1[cH:7][cH:8][c:9]([OH:10])[cH:11][cH:12]1>>[S:4]([H:1001])[Xe:1000].[CH3:1][C:2](=[O:3])[NH2:5][c:6]1[cH:7][cH:8][c:9]([OH:10])[cH:11][cH:12]1\",\"acetyl-CoA + 4-amimophenol = CoA + paracetamol\",\"2.3.1.118\"],\n",
    "# [\"[H+].[H:1000][U:1001].[NH2:1][c:2]1[cH:3][cH:4][c:5]([C:6](=[O:7])[OH:8])[cH:9][cH:10]1.[O:11]=[O:12]>>[C:6](=[O:7])=[O:8].[U+:1001].[OH2:12].[NH2:1][c:2]1[cH:3][cH:4][c:5]([OH:11])[cH:9][cH:10]1\",\"4-aminobenzoate + NAD(P)H + H+ + O2 = 4-aminophenol + NAD(P)+ + H2O + CO2\",\"1.14.13.27\"],]\n",
    "\n",
    "\n",
    "\n",
    "RULES_ARR = np.array(RULES)\n",
    "rules_set = RULES_ARR[:,:2]\n",
    "RULES_DF = pd.DataFrame(RULES,columns=[\"mapped\",\"orig_rxn_text\",\"EC\"])\n",
    "RULES_DF "
   ]
  },
  {
   "cell_type": "code",
   "execution_count": 7,
   "metadata": {},
   "outputs": [],
   "source": [
    "import pandas as pd\n",
    "import random\n",
    "\n",
    "def extract_rule_from_brenda(brenda_csv_file: str, ec_num_list: list) -> pd.DataFrame:\n",
    "    # Read the BRENDA dataset CSV file into a DataFrame\n",
    "    df = pd.read_csv(brenda_csv_file)  # Adjust separator as per the actual file format\n",
    "\n",
    "    # Print the column names for debugging\n",
    "    # print(\"Columns in the DataFrame:\", df.columns)\n",
    "  \n",
    "    # Strip any whitespace from column names\n",
    "    df.columns = df.columns.str.strip()\n",
    "    # print(df.columns)\n",
    "    # print(df)\n",
    "    # Ensure 'ec_num' column exists\n",
    "    if 'ec_num' not in df.columns:\n",
    "        raise KeyError(\"The 'ec_num' column is not found in the CSV file. Please check the column names.\")\n",
    "\n",
    "    # Filter the dataframe to include only the relevant EC numbers\n",
    "    filtered_df = df[df['ec_num'].isin(ec_num_list)]\n",
    "    \n",
    "    # Create a result dataframe to store the output\n",
    "    result_data = []\n",
    "\n",
    "    # Process each EC number in the input list\n",
    "    for ec_num in ec_num_list:\n",
    "        # Filter the rows for the current EC number\n",
    "        ec_df = filtered_df[filtered_df['ec_num'] == ec_num]\n",
    "\n",
    "        # Prioritize \"Escherichia coli\" organism, if not available, use \"Homo sapiens\"\n",
    "        organism_df = ec_df[ec_df['organism'] == \"Escherichia coli\"]\n",
    "        if organism_df.empty:\n",
    "            organism_df = ec_df[ec_df['organism'] == \"Homo sapiens\"]\n",
    "\n",
    "        # If still empty, use all available organisms for the current EC number\n",
    "        if organism_df.empty:\n",
    "            organism_df = ec_df\n",
    "\n",
    "        # Select a random row from the filtered data for the current EC number\n",
    "        if not organism_df.empty:\n",
    "            selected_row = organism_df.sample(n=1).iloc[0]\n",
    "            result_data.append({\n",
    "                'mapped': selected_row['mapped'],\n",
    "                'orig_rxn_text': selected_row['orig_rxn_text'],\n",
    "                'organism': selected_row['organism'],\n",
    "                'ec_num': selected_row['ec_num']\n",
    "            })\n",
    "\n",
    "    # Create a DataFrame from the result data\n",
    "    result_df = pd.DataFrame(result_data)\n",
    "\n",
    "    return result_df\n"
   ]
  },
  {
   "cell_type": "code",
   "execution_count": 8,
   "metadata": {},
   "outputs": [
    {
     "data": {
      "text/html": [
       "<div>\n",
       "<style scoped>\n",
       "    .dataframe tbody tr th:only-of-type {\n",
       "        vertical-align: middle;\n",
       "    }\n",
       "\n",
       "    .dataframe tbody tr th {\n",
       "        vertical-align: top;\n",
       "    }\n",
       "\n",
       "    .dataframe thead th {\n",
       "        text-align: right;\n",
       "    }\n",
       "</style>\n",
       "<table border=\"1\" class=\"dataframe\">\n",
       "  <thead>\n",
       "    <tr style=\"text-align: right;\">\n",
       "      <th></th>\n",
       "      <th>mapped</th>\n",
       "      <th>orig_rxn_text</th>\n",
       "      <th>organism</th>\n",
       "      <th>ec_num</th>\n",
       "    </tr>\n",
       "  </thead>\n",
       "  <tbody>\n",
       "    <tr>\n",
       "      <th>0</th>\n",
       "      <td>[NH2:1][C:2](=[O:3])[c:4]1[cH:5][cH:6][cH:7][n...</td>\n",
       "      <td>L-glutamate + NAD+ + H2O = 2-oxoglutarate + NA...</td>\n",
       "      <td>Escherichia coli</td>\n",
       "      <td>1.4.1.2</td>\n",
       "    </tr>\n",
       "    <tr>\n",
       "      <th>1</th>\n",
       "      <td>[CH3:1][C:2](=[O:3])[C:4](=[O:5])[OH:6]&gt;&gt;[C:4]...</td>\n",
       "      <td>pyruvate = acetaldehyde + CO2   {r}</td>\n",
       "      <td>Komagataella pastoris</td>\n",
       "      <td>4.1.1.1</td>\n",
       "    </tr>\n",
       "    <tr>\n",
       "      <th>2</th>\n",
       "      <td>[CH3:1][C@@:2]([OH:3])([CH2:4][CH2:5][O:6][P:7...</td>\n",
       "      <td>ATP + 5-diphosphomevalonate = ADP + phosphate ...</td>\n",
       "      <td>Homo sapiens</td>\n",
       "      <td>4.1.1.33</td>\n",
       "    </tr>\n",
       "    <tr>\n",
       "      <th>3</th>\n",
       "      <td>[CH3:1][C@H:2]([C:3](=[O:4])[OH:5])[C:6](=[O:7...</td>\n",
       "      <td>(R)-2-methylmalonyl-CoA = succinyl-CoA  {r}</td>\n",
       "      <td>Escherichia coli</td>\n",
       "      <td>5.4.99.2</td>\n",
       "    </tr>\n",
       "  </tbody>\n",
       "</table>\n",
       "</div>"
      ],
      "text/plain": [
       "                                              mapped  \\\n",
       "0  [NH2:1][C:2](=[O:3])[c:4]1[cH:5][cH:6][cH:7][n...   \n",
       "1  [CH3:1][C:2](=[O:3])[C:4](=[O:5])[OH:6]>>[C:4]...   \n",
       "2  [CH3:1][C@@:2]([OH:3])([CH2:4][CH2:5][O:6][P:7...   \n",
       "3  [CH3:1][C@H:2]([C:3](=[O:4])[OH:5])[C:6](=[O:7...   \n",
       "\n",
       "                                       orig_rxn_text               organism  \\\n",
       "0  L-glutamate + NAD+ + H2O = 2-oxoglutarate + NA...       Escherichia coli   \n",
       "1                pyruvate = acetaldehyde + CO2   {r}  Komagataella pastoris   \n",
       "2  ATP + 5-diphosphomevalonate = ADP + phosphate ...           Homo sapiens   \n",
       "3        (R)-2-methylmalonyl-CoA = succinyl-CoA  {r}       Escherichia coli   \n",
       "\n",
       "     ec_num  \n",
       "0   1.4.1.2  \n",
       "1   4.1.1.1  \n",
       "2  4.1.1.33  \n",
       "3  5.4.99.2  "
      ]
     },
     "execution_count": 8,
     "metadata": {},
     "output_type": "execute_result"
    }
   ],
   "source": [
    "brenda_csv_file = \"/home/mescalin/yitao/Documents/Datasets/processed_reactions_enzymemap_hesther.csv\"\n",
    "ec_list = [\"1.4.1.2\",\"4.1.1.1\",\"4.1.1.33\",\"5.4.99.2\"]\n",
    "r = extract_rule_from_brenda(brenda_csv_file,ec_list)\n",
    "r"
   ]
  },
  {
   "cell_type": "code",
   "execution_count": 24,
   "metadata": {},
   "outputs": [
    {
     "data": {
      "text/plain": [
       "'[CH3:1][C:2](=[O:3])[C:4](=[O:5])[OH:6]>>[C:4](=[O:5])=[O:6].[CH3:1][CH:2]=[O:3]'"
      ]
     },
     "execution_count": 24,
     "metadata": {},
     "output_type": "execute_result"
    }
   ],
   "source": [
    "rs=r\n",
    "rs.to_csv('/home/mescalin/yitao/Documents/Code/3HP/ruleset_operator.csv')\n",
    "rs['mapped'][1]"
   ]
  },
  {
   "cell_type": "code",
   "execution_count": 27,
   "metadata": {},
   "outputs": [],
   "source": [
    "r1 = '[CH3:1][C:2](=[O:3])[C:4](=[O:5])[O:6][H:7]>>[C:4](=[O:5])=[O:6].[CH3:1][C:2]([H:7])=[O:3]'"
   ]
  },
  {
   "cell_type": "code",
   "execution_count": 28,
   "metadata": {},
   "outputs": [],
   "source": [
    "\n",
    "reaction = AllChem.ReactionFromSmarts(r1)\n",
    "rxn_img = Draw.ReactionToImage(reaction, subImgSize=(1200, 1200))\n",
    "rxn_img.show()\n",
    "# rl = smarts_to_gml([rxn,\"(S)-lactate + NAD+ = pyruvate + NADH + H+\"])\n",
    "# print(rl)"
   ]
  },
  {
   "cell_type": "code",
   "execution_count": 17,
   "metadata": {},
   "outputs": [
    {
     "name": "stdout",
     "output_type": "stream",
     "text": [
      "* 0 1\n",
      "0 CHI_UNSPECIFIED UNSPECIFIED\n",
      "False False 1\n",
      "O 1 0\n",
      "8 CHI_UNSPECIFIED SP3\n",
      "False False 2\n"
     ]
    }
   ],
   "source": [
    "mol = Chem.MolFromSmiles(\"[*+:1][O:2]\")\n",
    "for atom in mol.GetAtoms():\n",
    "    print(atom.GetSymbol(),atom.GetIdx(),atom.GetFormalCharge())\n",
    "\n",
    "    print(atom.GetAtomicNum(),atom.GetChiralTag(),atom.GetHybridization())\n",
    "    print(atom.GetIsAromatic(),atom.IsInRing(),atom.GetAtomMapNum())"
   ]
  },
  {
   "cell_type": "code",
   "execution_count": 29,
   "metadata": {},
   "outputs": [
    {
     "name": "stdout",
     "output_type": "stream",
     "text": [
      "[CH3:1][C:2](=[O:3])[C:4](=[O:5])[O:6][H:7]>>[C:4](=[O:5])=[O:6].[CH3:1][C:2]([H:7])=[O:3]\n",
      "pyruvate = acetaldehyde + CO2   {r}|| ec num:  4.1.1.1\n",
      "rule[\n",
      " ruleID \"pyruvate = acetaldehyde + CO2   {r}|| ec num:  4.1.1.1\"\n",
      " \n",
      " left [\n",
      "   edge [ source 2 target 4 label \"-\"]\n",
      "   edge [ source 4 target 6 label \"-\"]\n",
      "   edge [ source 6 target 7 label \"-\"]\n",
      " ]\n",
      " \n",
      " context [\n",
      "   node [ id 1 label \"C\"]\n",
      "   node [ id 2 label \"C\"]\n",
      "   node [ id 3 label \"O\"]\n",
      "   node [ id 4 label \"C\"]\n",
      "   node [ id 5 label \"O\"]\n",
      "   node [ id 6 label \"O\"]\n",
      "   node [ id 7 label \"H\"]\n",
      "   edge [ source 1 target 2 label \"-\"]\n",
      "   edge [ source 2 target 3 label \"=\"]\n",
      "   edge [ source 4 target 5 label \"=\"]\n",
      " ]\n",
      " \n",
      " right [\n",
      "   edge [ source 2 target 7 label \"-\"]\n",
      "   edge [ source 4 target 6 label \"=\"]\n",
      " ]\n",
      "]\n"
     ]
    }
   ],
   "source": [
    "from utils import smarts_to_gml_v2\n",
    "rules_set = pd.read_csv(\"/home/mescalin/yitao/Documents/Code/3HP/ruleset_operator.csv\")\n",
    "rule_smt = rules_set['mapped'][1]\n",
    "rule_name = rules_set['orig_rxn_text'][1] + '|| ec num:  ' + rules_set['ec_num'][1]\n",
    "print(rule_smt)\n",
    "print(rule_name)\n",
    "\n",
    "rule = smarts_to_gml_v2(rule_smt,rule_name)\n",
    "print(rule)\n",
    "# rules = []\n",
    "\n",
    "# for r in rules_set:\n",
    "#     rule = smarts_to_gml(r)\n",
    "#     rules.append(rule)\n",
    "#     print(rule)\n",
    "\n",
    "# for i, r in enumerate(rules):\n",
    "\n",
    "with open(f\"/home/mescalin/yitao/Documents/Code/3HP/gml_rules/rules_00{13}.gml\",\"w\") as f:\n",
    "\n",
    "    f.write(rule)"
   ]
  },
  {
   "cell_type": "code",
   "execution_count": 6,
   "metadata": {},
   "outputs": [
    {
     "data": {
      "text/plain": [
       "['(S)-lactate + NAD+ = pyruvate + NADH + H+'(0),\n",
       " 'acetaldehyde + CoA + NAD+ = acetyl-CoA + NADH + H+'(1),\n",
       " 'L-Aspartate + 2-Oxoglutarate <=> Oxaloacetate + L-Glutamate'(2),\n",
       " 'Acyl-CoA + H2O <=> CoA + Carboxylate'(3),\n",
       " 'S-adenosyl-L-methionine = (5-deoxy-5-adenosyl)(3-aminopropyl)methylsulfonium salt + CO2'(4),\n",
       " 'fumarate + H2O = L-malate'(5),\n",
       " 'Lactoyl-CoA <=> Propenoyl-CoA + H2O'(6),\n",
       " 'L-Aspartate <=> Fumarate + Ammonia'(7),\n",
       " 'L-lysine = (3S)-3,6-diaminohexanoate'(8),\n",
       " 'ATP + Acetate + CoA <=> AMP + Diphosphate + Acetyl-CoA'(9),\n",
       " 'ATP + acetyl-CoA + HCO3- = ADP + malonyl-CoA + phosphate '(10)]"
      ]
     },
     "execution_count": 6,
     "metadata": {},
     "output_type": "execute_result"
    }
   ],
   "source": [
    "rgml = []\n",
    "\n",
    "for r in rules:\n",
    "    rgml.append(ruleGMLString(r))\n",
    "\n",
    "\n",
    "rgml"
   ]
  },
  {
   "cell_type": "code",
   "execution_count": 7,
   "metadata": {},
   "outputs": [],
   "source": [
    "pyruvate = smiles(\"CC(=O)C(=O)[O-]\", \"PYRUVATE\")\n",
    "lactate = smiles(\"CC(C(=O)[O-])O\", \"LACTATE\")\n",
    "# lactoyl_coa = smiles(\"CC(C(=O)SCCNC(=O)CCNC(=O)[C@@H](C(C)(C)COP(=O)(O)OP(=O)(O)OC[C@@H]1[C@H]([C@H]([C@@H](O1)N2C=NC3=C(N=CN=C32)N)O)OP(=O)(O)O)O)O\", \"LACTOYL-COA\")\n",
    "# aspartate = smiles(\"C([C@@H](C(=O)O)N)C(=O)O\", \"ASPARTATE\")\n",
    "nadh = graphDFS(\"[U][H]\")\n",
    "nadplus = graphDFS(\"[U+]\")\n",
    "oxygen = smiles(\"O=O\", \"O2\")\n",
    "water = smiles(\"O\", \"H2O\")\n",
    "hplus = smiles(\"[H+]\", \"hplus\")"
   ]
  },
  {
   "cell_type": "code",
   "execution_count": 8,
   "metadata": {},
   "outputs": [
    {
     "data": {
      "text/plain": [
       "['PYRUVATE'(0),\n",
       " 'LACTATE'(1),\n",
       " 'g_{2}'(2),\n",
       " 'g_{3}'(3),\n",
       " 'O2'(4),\n",
       " 'H2O'(5),\n",
       " 'hplus'(6)]"
      ]
     },
     "execution_count": 8,
     "metadata": {},
     "output_type": "execute_result"
    }
   ],
   "source": [
    "knownMols = [pyruvate, lactate,nadh,nadplus,oxygen,water,hplus]\n",
    "# lactoyl_coa, /\n",
    "# aspartate\n",
    "knownMols"
   ]
  },
  {
   "cell_type": "code",
   "execution_count": null,
   "metadata": {},
   "outputs": [],
   "source": [
    "# flush summary file handle\n",
    "post.flushCommands()\n",
    "# generate summary/summery.pdf\n",
    "subprocess.run([\"/home/talax/xtof/local/Mod/bin/mod_post\"])"
   ]
  },
  {
   "cell_type": "code",
   "execution_count": null,
   "metadata": {},
   "outputs": [],
   "source": [
    "\n",
    "eductMols = [pyruvate, lactate, nadh,nadplus, water]\n",
    "\n",
    "strat = (addSubset(eductMols)>> repeat[5](inputRules))\n",
    "ls = LabelSettings(LabelType.Term, LabelRelation.Unification)\n",
    "dg = DG(graphDatabase=knownMols, labelSettings=ls)\n",
    "dg"
   ]
  },
  {
   "cell_type": "code",
   "execution_count": 51,
   "metadata": {},
   "outputs": [
    {
     "name": "stdout",
     "output_type": "stream",
     "text": [
      "Repeat, limit = 5\n",
      "  Round 1:\n",
      "  Round 1: Result subset has 0 graphs.\n"
     ]
    },
    {
     "data": {
      "text/plain": [
       "DG(4)"
      ]
     },
     "execution_count": 51,
     "metadata": {},
     "output_type": "execute_result"
    }
   ],
   "source": [
    "dg.build().execute(strat)\n",
    "dg\n"
   ]
  },
  {
   "cell_type": "code",
   "execution_count": 54,
   "metadata": {},
   "outputs": [
    {
     "ename": "LogicError",
     "evalue": "Can not open file 'out/002_dg_4_11100.dot'.",
     "output_type": "error",
     "traceback": [
      "\u001b[0;31m---------------------------------------------------------------------------\u001b[0m",
      "\u001b[0;31mLogicError\u001b[0m                                Traceback (most recent call last)",
      "\u001b[1;32m/home/mescalin/yitao/Documents/Code/RULES_Generation.ipynb Cell 10\u001b[0m line \u001b[0;36m1\n\u001b[0;32m----> <a href='vscode-notebook-cell:/home/mescalin/yitao/Documents/Code/RULES_Generation.ipynb#X12sZmlsZQ%3D%3D?line=0'>1</a>\u001b[0m dg\u001b[39m.\u001b[39;49mprint()\n\u001b[1;32m      <a href='vscode-notebook-cell:/home/mescalin/yitao/Documents/Code/RULES_Generation.ipynb#X12sZmlsZQ%3D%3D?line=1'>2</a>\u001b[0m \u001b[39m# flush summary file handle\u001b[39;00m\n\u001b[1;32m      <a href='vscode-notebook-cell:/home/mescalin/yitao/Documents/Code/RULES_Generation.ipynb#X12sZmlsZQ%3D%3D?line=2'>3</a>\u001b[0m post\u001b[39m.\u001b[39mflushCommands()\n",
      "File \u001b[0;32m/home/talax/xtof/local/Mod/lib64/mod/__init__.py:305\u001b[0m, in \u001b[0;36m_DG_print\u001b[0;34m(self, printer, data)\u001b[0m\n\u001b[1;32m    303\u001b[0m \u001b[39mif\u001b[39;00m printer \u001b[39mis\u001b[39;00m \u001b[39mNone\u001b[39;00m: printer \u001b[39m=\u001b[39m DGPrinter()\n\u001b[1;32m    304\u001b[0m \u001b[39mif\u001b[39;00m data \u001b[39mis\u001b[39;00m \u001b[39mNone\u001b[39;00m: data \u001b[39m=\u001b[39m DGPrintData(\u001b[39mself\u001b[39m)\n\u001b[0;32m--> 305\u001b[0m \u001b[39mreturn\u001b[39;00m _DG_print_orig(\u001b[39mself\u001b[39;49m, printer, data)\n",
      "\u001b[0;31mLogicError\u001b[0m: Can not open file 'out/002_dg_4_11100.dot'."
     ]
    }
   ],
   "source": [
    "dg.print()\n"
   ]
  },
  {
   "cell_type": "code",
   "execution_count": 4,
   "metadata": {},
   "outputs": [
    {
     "name": "stderr",
     "output_type": "stream",
     "text": [
      "/scr/xindus/yitao/miniforge3/envs/aibio/lib/python3.11/site-packages/tqdm/auto.py:21: TqdmWarning: IProgress not found. Please update jupyter and ipywidgets. See https://ipywidgets.readthedocs.io/en/stable/user_install.html\n",
      "  from .autonotebook import tqdm as notebook_tqdm\n"
     ]
    },
    {
     "name": "stdout",
     "output_type": "stream",
     "text": [
      "tensor([[ 0.7389,  2.0832, -0.4622],\n",
      "        [ 3.3329, -0.7149, -3.9373],\n",
      "        [ 1.5288,  6.1248, -3.6399],\n",
      "        [ 2.5763, -6.6367,  6.8477]], grad_fn=<IndexPutBackward0>)\n"
     ]
    }
   ],
   "source": [
    "import torch\n",
    "from torch_geometric.nn import HeteroLinear\n",
    "\n",
    "# Sample input data\n",
    "features = torch.tensor([[1.0, 2.0],  # Person node\n",
    "                         [3.0, 4.0],  # Company node\n",
    "                         [5.0, 6.0],  # Person node \n",
    "                         [7.0, 8.0]]) # Location node\n",
    "type_vec = torch.tensor([0, 1, 0, 2])  # 0 for Person, 1 for Company, 2 for Location\n",
    "\n",
    "# Create a HeteroLinear layer\n",
    "hetero_linear = HeteroLinear(in_channels=2, out_channels=3, num_types=3)\n",
    "\n",
    "# Apply the transformation\n",
    "output = hetero_linear(features, type_vec)\n",
    "print(output)\n"
   ]
  }
 ],
 "metadata": {
  "kernelspec": {
   "display_name": "pytorch",
   "language": "python",
   "name": "python3"
  },
  "language_info": {
   "codemirror_mode": {
    "name": "ipython",
    "version": 3
   },
   "file_extension": ".py",
   "mimetype": "text/x-python",
   "name": "python",
   "nbconvert_exporter": "python",
   "pygments_lexer": "ipython3",
   "version": "3.11.8"
  }
 },
 "nbformat": 4,
 "nbformat_minor": 2
}
